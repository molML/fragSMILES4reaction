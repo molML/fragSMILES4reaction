{
 "cells": [
  {
   "cell_type": "code",
   "execution_count": null,
   "metadata": {},
   "outputs": [],
   "source": [
    "%cd ..\n",
    "import pandas as pd\n",
    "import numpy as np\n",
    "import os"
   ]
  },
  {
   "cell_type": "code",
   "execution_count": 2,
   "metadata": {},
   "outputs": [],
   "source": [
    "from matplotlib import pyplot as plt"
   ]
  },
  {
   "cell_type": "code",
   "execution_count": 3,
   "metadata": {},
   "outputs": [],
   "source": [
    "plt.style.use('dark_background')"
   ]
  },
  {
   "cell_type": "code",
   "execution_count": 4,
   "metadata": {},
   "outputs": [],
   "source": [
    "%load_ext autoreload\n",
    "%autoreload 2"
   ]
  },
  {
   "cell_type": "code",
   "execution_count": 5,
   "metadata": {},
   "outputs": [],
   "source": [
    "from src.evaluator import Evaluator"
   ]
  },
  {
   "cell_type": "code",
   "execution_count": 6,
   "metadata": {},
   "outputs": [],
   "source": [
    "def load_everything(evaluator):\n",
    "    if mask_logs:=evaluator.load_logs() is False:\n",
    "        return None\n",
    "    \n",
    "    return evaluator"
   ]
  },
  {
   "cell_type": "code",
   "execution_count": 7,
   "metadata": {},
   "outputs": [],
   "source": [
    "import glob"
   ]
  },
  {
   "cell_type": "markdown",
   "metadata": {},
   "source": [
    "## Forward Evaluators"
   ]
  },
  {
   "cell_type": "code",
   "execution_count": 8,
   "metadata": {},
   "outputs": [],
   "source": [
    "paths = 'experiments_reactions/task=forward/notation=*/*/*/'\n",
    "folders= [d for d in glob.glob(paths) if os.path.isdir(d)]\n",
    "evaluators_forward = [Evaluator.from_path(folder) for folder in folders]\n",
    "\n",
    "df = pd.concat( [evaluator.as_dataframe_cell() for evaluator in evaluators_forward], ignore_index=True )\n",
    "df['evaluator'] = df['evaluator'].apply(load_everything)\n",
    "df.dropna(axis=0, inplace=True)\n",
    "\n",
    "# retrieving the last value from validation loss curve\n",
    "df['val_loss'] = df['evaluator'].apply(lambda x: x.logs.val_loss.iloc[-1])"
   ]
  },
  {
   "cell_type": "code",
   "execution_count": 9,
   "metadata": {},
   "outputs": [],
   "source": [
    "grouped = df.groupby(df.notation)\n",
    "best_of_forward = pd.concat([ \n",
    "    group.sort_values('val_loss').iloc[[0]]\n",
    "    for key, group in grouped\n",
    "], ignore_index=True)\n",
    "\n",
    "best_of_forward['task'] = 'forward'"
   ]
  },
  {
   "cell_type": "code",
   "execution_count": 10,
   "metadata": {},
   "outputs": [
    {
     "data": {
      "application/vnd.microsoft.datawrangler.viewer.v0+json": {
       "columns": [
        {
         "name": "index",
         "rawType": "int64",
         "type": "integer"
        },
        {
         "name": "model_dim",
         "rawType": "int64",
         "type": "integer"
        },
        {
         "name": "num_heads",
         "rawType": "int64",
         "type": "integer"
        },
        {
         "name": "num_layers",
         "rawType": "int64",
         "type": "integer"
        },
        {
         "name": "batch_size",
         "rawType": "int64",
         "type": "integer"
        },
        {
         "name": "lr",
         "rawType": "float64",
         "type": "float"
        },
        {
         "name": "dropout",
         "rawType": "float64",
         "type": "float"
        },
        {
         "name": "notation",
         "rawType": "object",
         "type": "string"
        },
        {
         "name": "evaluator",
         "rawType": "object",
         "type": "unknown"
        },
        {
         "name": "val_loss",
         "rawType": "float64",
         "type": "float"
        },
        {
         "name": "task",
         "rawType": "object",
         "type": "string"
        }
       ],
       "conversionMethod": "pd.DataFrame",
       "ref": "a4e3a106-1430-4a06-8fee-7bccc9407334",
       "rows": [
        [
         "0",
         "512",
         "4",
         "5",
         "256",
         "0.0001",
         "0.3",
         "fragsmiles",
         "<src.evaluator.ForwardEvaluator object at 0x7f9eafa85e50>",
         "0.2437509894371032",
         "forward"
        ],
        [
         "1",
         "512",
         "4",
         "5",
         "256",
         "0.0001",
         "0.3",
         "safe",
         "<src.evaluator.ForwardEvaluator object at 0x7f9eafad1490>",
         "0.2162049710750579",
         "forward"
        ],
        [
         "2",
         "256",
         "4",
         "3",
         "512",
         "0.001",
         "0.3",
         "selfies",
         "<src.evaluator.ForwardEvaluator object at 0x7f9eb05d86b0>",
         "0.2628891170024872",
         "forward"
        ],
        [
         "3",
         "256",
         "4",
         "4",
         "512",
         "0.001",
         "0.3",
         "smiles",
         "<src.evaluator.ForwardEvaluator object at 0x7f9eb058abd0>",
         "0.1158786341547966",
         "forward"
        ]
       ],
       "shape": {
        "columns": 10,
        "rows": 4
       }
      },
      "text/html": [
       "<div>\n",
       "<style scoped>\n",
       "    .dataframe tbody tr th:only-of-type {\n",
       "        vertical-align: middle;\n",
       "    }\n",
       "\n",
       "    .dataframe tbody tr th {\n",
       "        vertical-align: top;\n",
       "    }\n",
       "\n",
       "    .dataframe thead th {\n",
       "        text-align: right;\n",
       "    }\n",
       "</style>\n",
       "<table border=\"1\" class=\"dataframe\">\n",
       "  <thead>\n",
       "    <tr style=\"text-align: right;\">\n",
       "      <th></th>\n",
       "      <th>model_dim</th>\n",
       "      <th>num_heads</th>\n",
       "      <th>num_layers</th>\n",
       "      <th>batch_size</th>\n",
       "      <th>lr</th>\n",
       "      <th>dropout</th>\n",
       "      <th>notation</th>\n",
       "      <th>evaluator</th>\n",
       "      <th>val_loss</th>\n",
       "      <th>task</th>\n",
       "    </tr>\n",
       "  </thead>\n",
       "  <tbody>\n",
       "    <tr>\n",
       "      <th>0</th>\n",
       "      <td>512</td>\n",
       "      <td>4</td>\n",
       "      <td>5</td>\n",
       "      <td>256</td>\n",
       "      <td>0.0001</td>\n",
       "      <td>0.3</td>\n",
       "      <td>fragsmiles</td>\n",
       "      <td>&lt;src.evaluator.ForwardEvaluator object at 0x7f...</td>\n",
       "      <td>0.243751</td>\n",
       "      <td>forward</td>\n",
       "    </tr>\n",
       "    <tr>\n",
       "      <th>1</th>\n",
       "      <td>512</td>\n",
       "      <td>4</td>\n",
       "      <td>5</td>\n",
       "      <td>256</td>\n",
       "      <td>0.0001</td>\n",
       "      <td>0.3</td>\n",
       "      <td>safe</td>\n",
       "      <td>&lt;src.evaluator.ForwardEvaluator object at 0x7f...</td>\n",
       "      <td>0.216205</td>\n",
       "      <td>forward</td>\n",
       "    </tr>\n",
       "    <tr>\n",
       "      <th>2</th>\n",
       "      <td>256</td>\n",
       "      <td>4</td>\n",
       "      <td>3</td>\n",
       "      <td>512</td>\n",
       "      <td>0.0010</td>\n",
       "      <td>0.3</td>\n",
       "      <td>selfies</td>\n",
       "      <td>&lt;src.evaluator.ForwardEvaluator object at 0x7f...</td>\n",
       "      <td>0.262889</td>\n",
       "      <td>forward</td>\n",
       "    </tr>\n",
       "    <tr>\n",
       "      <th>3</th>\n",
       "      <td>256</td>\n",
       "      <td>4</td>\n",
       "      <td>4</td>\n",
       "      <td>512</td>\n",
       "      <td>0.0010</td>\n",
       "      <td>0.3</td>\n",
       "      <td>smiles</td>\n",
       "      <td>&lt;src.evaluator.ForwardEvaluator object at 0x7f...</td>\n",
       "      <td>0.115879</td>\n",
       "      <td>forward</td>\n",
       "    </tr>\n",
       "  </tbody>\n",
       "</table>\n",
       "</div>"
      ],
      "text/plain": [
       "   model_dim  num_heads  num_layers  batch_size      lr  dropout    notation  \\\n",
       "0        512          4           5         256  0.0001      0.3  fragsmiles   \n",
       "1        512          4           5         256  0.0001      0.3        safe   \n",
       "2        256          4           3         512  0.0010      0.3     selfies   \n",
       "3        256          4           4         512  0.0010      0.3      smiles   \n",
       "\n",
       "                                           evaluator  val_loss     task  \n",
       "0  <src.evaluator.ForwardEvaluator object at 0x7f...  0.243751  forward  \n",
       "1  <src.evaluator.ForwardEvaluator object at 0x7f...  0.216205  forward  \n",
       "2  <src.evaluator.ForwardEvaluator object at 0x7f...  0.262889  forward  \n",
       "3  <src.evaluator.ForwardEvaluator object at 0x7f...  0.115879  forward  "
      ]
     },
     "execution_count": 10,
     "metadata": {},
     "output_type": "execute_result"
    }
   ],
   "source": [
    "best_of_forward"
   ]
  },
  {
   "cell_type": "raw",
   "metadata": {
    "vscode": {
     "languageId": "raw"
    }
   },
   "source": [
    "best_of_forward.drop(columns=['evaluator','val_loss']).to_csv('bestof_setup/best_forward_settings.csv', index=False)"
   ]
  },
  {
   "cell_type": "markdown",
   "metadata": {},
   "source": [
    "## Backward Evaluators"
   ]
  },
  {
   "cell_type": "code",
   "execution_count": 11,
   "metadata": {},
   "outputs": [],
   "source": [
    "paths = 'experiments_reactions/task=backward/notation=*/*/*/'\n",
    "folders= [d for d in glob.glob(paths) if os.path.isdir(d)]\n",
    "evaluators_backward = [Evaluator.from_path(folder) for folder in folders]\n",
    "\n",
    "df = pd.concat( [evaluator.as_dataframe_cell() for evaluator in evaluators_backward], ignore_index=True )\n",
    "df['evaluator'] = df['evaluator'].apply(load_everything)\n",
    "df.dropna(axis=0, inplace=True)\n",
    "\n",
    "# retrieving the last value from validation loss curve\n",
    "df['val_loss'] = df['evaluator'].apply(lambda x: x.logs.val_loss.iloc[-1])"
   ]
  },
  {
   "cell_type": "code",
   "execution_count": 12,
   "metadata": {},
   "outputs": [],
   "source": [
    "grouped = df.groupby(df.notation)\n",
    "best_of_backward = pd.concat([ \n",
    "    group.sort_values('val_loss').iloc[[0]]\n",
    "    for key, group in grouped\n",
    "], ignore_index=True)\n",
    "\n",
    "best_of_backward['task'] = 'backward'"
   ]
  },
  {
   "cell_type": "code",
   "execution_count": 13,
   "metadata": {},
   "outputs": [
    {
     "data": {
      "application/vnd.microsoft.datawrangler.viewer.v0+json": {
       "columns": [
        {
         "name": "index",
         "rawType": "int64",
         "type": "integer"
        },
        {
         "name": "model_dim",
         "rawType": "int64",
         "type": "integer"
        },
        {
         "name": "num_heads",
         "rawType": "int64",
         "type": "integer"
        },
        {
         "name": "num_layers",
         "rawType": "int64",
         "type": "integer"
        },
        {
         "name": "batch_size",
         "rawType": "int64",
         "type": "integer"
        },
        {
         "name": "lr",
         "rawType": "float64",
         "type": "float"
        },
        {
         "name": "dropout",
         "rawType": "float64",
         "type": "float"
        },
        {
         "name": "notation",
         "rawType": "object",
         "type": "string"
        },
        {
         "name": "evaluator",
         "rawType": "object",
         "type": "unknown"
        },
        {
         "name": "val_loss",
         "rawType": "float64",
         "type": "float"
        },
        {
         "name": "task",
         "rawType": "object",
         "type": "string"
        }
       ],
       "conversionMethod": "pd.DataFrame",
       "ref": "96517366-8031-4f0e-8615-6a33bec91ff3",
       "rows": [
        [
         "0",
         "512",
         "4",
         "5",
         "256",
         "0.0001",
         "0.3",
         "fragsmiles",
         "<src.evaluator.BackwardEvaluator object at 0x7f9eb33c0830>",
         "0.5418801307678223",
         "backward"
        ],
        [
         "1",
         "256",
         "4",
         "4",
         "512",
         "0.001",
         "0.3",
         "safe",
         "<src.evaluator.BackwardEvaluator object at 0x7f9eb33bd040>",
         "0.3558155596256256",
         "backward"
        ],
        [
         "2",
         "256",
         "4",
         "3",
         "256",
         "0.001",
         "0.3",
         "selfies",
         "<src.evaluator.BackwardEvaluator object at 0x7f9eb33c2120>",
         "0.4309765994548797",
         "backward"
        ],
        [
         "3",
         "256",
         "4",
         "4",
         "512",
         "0.001",
         "0.3",
         "smiles",
         "<src.evaluator.BackwardEvaluator object at 0x7f9eb27dbe30>",
         "0.286131203174591",
         "backward"
        ]
       ],
       "shape": {
        "columns": 10,
        "rows": 4
       }
      },
      "text/html": [
       "<div>\n",
       "<style scoped>\n",
       "    .dataframe tbody tr th:only-of-type {\n",
       "        vertical-align: middle;\n",
       "    }\n",
       "\n",
       "    .dataframe tbody tr th {\n",
       "        vertical-align: top;\n",
       "    }\n",
       "\n",
       "    .dataframe thead th {\n",
       "        text-align: right;\n",
       "    }\n",
       "</style>\n",
       "<table border=\"1\" class=\"dataframe\">\n",
       "  <thead>\n",
       "    <tr style=\"text-align: right;\">\n",
       "      <th></th>\n",
       "      <th>model_dim</th>\n",
       "      <th>num_heads</th>\n",
       "      <th>num_layers</th>\n",
       "      <th>batch_size</th>\n",
       "      <th>lr</th>\n",
       "      <th>dropout</th>\n",
       "      <th>notation</th>\n",
       "      <th>evaluator</th>\n",
       "      <th>val_loss</th>\n",
       "      <th>task</th>\n",
       "    </tr>\n",
       "  </thead>\n",
       "  <tbody>\n",
       "    <tr>\n",
       "      <th>0</th>\n",
       "      <td>512</td>\n",
       "      <td>4</td>\n",
       "      <td>5</td>\n",
       "      <td>256</td>\n",
       "      <td>0.0001</td>\n",
       "      <td>0.3</td>\n",
       "      <td>fragsmiles</td>\n",
       "      <td>&lt;src.evaluator.BackwardEvaluator object at 0x7...</td>\n",
       "      <td>0.541880</td>\n",
       "      <td>backward</td>\n",
       "    </tr>\n",
       "    <tr>\n",
       "      <th>1</th>\n",
       "      <td>256</td>\n",
       "      <td>4</td>\n",
       "      <td>4</td>\n",
       "      <td>512</td>\n",
       "      <td>0.0010</td>\n",
       "      <td>0.3</td>\n",
       "      <td>safe</td>\n",
       "      <td>&lt;src.evaluator.BackwardEvaluator object at 0x7...</td>\n",
       "      <td>0.355816</td>\n",
       "      <td>backward</td>\n",
       "    </tr>\n",
       "    <tr>\n",
       "      <th>2</th>\n",
       "      <td>256</td>\n",
       "      <td>4</td>\n",
       "      <td>3</td>\n",
       "      <td>256</td>\n",
       "      <td>0.0010</td>\n",
       "      <td>0.3</td>\n",
       "      <td>selfies</td>\n",
       "      <td>&lt;src.evaluator.BackwardEvaluator object at 0x7...</td>\n",
       "      <td>0.430977</td>\n",
       "      <td>backward</td>\n",
       "    </tr>\n",
       "    <tr>\n",
       "      <th>3</th>\n",
       "      <td>256</td>\n",
       "      <td>4</td>\n",
       "      <td>4</td>\n",
       "      <td>512</td>\n",
       "      <td>0.0010</td>\n",
       "      <td>0.3</td>\n",
       "      <td>smiles</td>\n",
       "      <td>&lt;src.evaluator.BackwardEvaluator object at 0x7...</td>\n",
       "      <td>0.286131</td>\n",
       "      <td>backward</td>\n",
       "    </tr>\n",
       "  </tbody>\n",
       "</table>\n",
       "</div>"
      ],
      "text/plain": [
       "   model_dim  num_heads  num_layers  batch_size      lr  dropout    notation  \\\n",
       "0        512          4           5         256  0.0001      0.3  fragsmiles   \n",
       "1        256          4           4         512  0.0010      0.3        safe   \n",
       "2        256          4           3         256  0.0010      0.3     selfies   \n",
       "3        256          4           4         512  0.0010      0.3      smiles   \n",
       "\n",
       "                                           evaluator  val_loss      task  \n",
       "0  <src.evaluator.BackwardEvaluator object at 0x7...  0.541880  backward  \n",
       "1  <src.evaluator.BackwardEvaluator object at 0x7...  0.355816  backward  \n",
       "2  <src.evaluator.BackwardEvaluator object at 0x7...  0.430977  backward  \n",
       "3  <src.evaluator.BackwardEvaluator object at 0x7...  0.286131  backward  "
      ]
     },
     "execution_count": 14,
     "metadata": {},
     "output_type": "execute_result"
    }
   ],
   "source": [
    "best_of_backward"
   ]
  },
  {
   "cell_type": "raw",
   "metadata": {
    "vscode": {
     "languageId": "raw"
    }
   },
   "source": [
    "best_of_backward.drop(columns=['evaluator','val_loss']).to_csv('bestof_setup/best_backward_settings.csv', index=False)"
   ]
  },
  {
   "cell_type": "markdown",
   "metadata": {},
   "source": [
    "## latex table"
   ]
  },
  {
   "cell_type": "code",
   "execution_count": 19,
   "metadata": {},
   "outputs": [],
   "source": [
    "best_of_full = pd.concat([best_of_forward, best_of_backward], ignore_index=True)"
   ]
  },
  {
   "cell_type": "code",
   "execution_count": 20,
   "metadata": {},
   "outputs": [],
   "source": [
    "from src.configs.constants import NOTATIONS_NAME"
   ]
  },
  {
   "cell_type": "code",
   "execution_count": 21,
   "metadata": {},
   "outputs": [],
   "source": [
    "best_of_full.notation = best_of_full.notation.apply(NOTATIONS_NAME.get)"
   ]
  },
  {
   "cell_type": "code",
   "execution_count": 22,
   "metadata": {},
   "outputs": [
    {
     "data": {
      "application/vnd.microsoft.datawrangler.viewer.v0+json": {
       "columns": [
        {
         "name": "index",
         "rawType": "int64",
         "type": "integer"
        },
        {
         "name": "model_dim",
         "rawType": "int64",
         "type": "integer"
        },
        {
         "name": "num_heads",
         "rawType": "int64",
         "type": "integer"
        },
        {
         "name": "num_layers",
         "rawType": "int64",
         "type": "integer"
        },
        {
         "name": "batch_size",
         "rawType": "int64",
         "type": "integer"
        },
        {
         "name": "lr",
         "rawType": "float64",
         "type": "float"
        },
        {
         "name": "dropout",
         "rawType": "float64",
         "type": "float"
        },
        {
         "name": "notation",
         "rawType": "object",
         "type": "string"
        },
        {
         "name": "evaluator",
         "rawType": "object",
         "type": "unknown"
        },
        {
         "name": "val_loss",
         "rawType": "float64",
         "type": "float"
        },
        {
         "name": "task",
         "rawType": "object",
         "type": "string"
        }
       ],
       "conversionMethod": "pd.DataFrame",
       "ref": "aabf8614-d8e4-461c-82f9-5b79e57aa37c",
       "rows": [
        [
         "0",
         "512",
         "4",
         "5",
         "256",
         "0.0001",
         "0.3",
         "fragSMILES",
         "<src.evaluator.ForwardEvaluator object at 0x7f9eafa85e50>",
         "0.2437509894371032",
         "forward"
        ],
        [
         "1",
         "512",
         "4",
         "5",
         "256",
         "0.0001",
         "0.3",
         "SAFE",
         "<src.evaluator.ForwardEvaluator object at 0x7f9eafad1490>",
         "0.2162049710750579",
         "forward"
        ],
        [
         "2",
         "256",
         "4",
         "3",
         "512",
         "0.001",
         "0.3",
         "SELFIES",
         "<src.evaluator.ForwardEvaluator object at 0x7f9eb05d86b0>",
         "0.2628891170024872",
         "forward"
        ],
        [
         "3",
         "256",
         "4",
         "4",
         "512",
         "0.001",
         "0.3",
         "SMILES",
         "<src.evaluator.ForwardEvaluator object at 0x7f9eb058abd0>",
         "0.1158786341547966",
         "forward"
        ],
        [
         "4",
         "512",
         "4",
         "5",
         "256",
         "0.0001",
         "0.3",
         "fragSMILES",
         "<src.evaluator.BackwardEvaluator object at 0x7f9eb33c0830>",
         "0.5418801307678223",
         "backward"
        ],
        [
         "5",
         "256",
         "4",
         "4",
         "512",
         "0.001",
         "0.3",
         "SAFE",
         "<src.evaluator.BackwardEvaluator object at 0x7f9eb33bd040>",
         "0.3558155596256256",
         "backward"
        ],
        [
         "6",
         "256",
         "4",
         "3",
         "256",
         "0.001",
         "0.3",
         "SELFIES",
         "<src.evaluator.BackwardEvaluator object at 0x7f9eb33c2120>",
         "0.4309765994548797",
         "backward"
        ],
        [
         "7",
         "256",
         "4",
         "4",
         "512",
         "0.001",
         "0.3",
         "SMILES",
         "<src.evaluator.BackwardEvaluator object at 0x7f9eb27dbe30>",
         "0.286131203174591",
         "backward"
        ]
       ],
       "shape": {
        "columns": 10,
        "rows": 8
       }
      },
      "text/html": [
       "<div>\n",
       "<style scoped>\n",
       "    .dataframe tbody tr th:only-of-type {\n",
       "        vertical-align: middle;\n",
       "    }\n",
       "\n",
       "    .dataframe tbody tr th {\n",
       "        vertical-align: top;\n",
       "    }\n",
       "\n",
       "    .dataframe thead th {\n",
       "        text-align: right;\n",
       "    }\n",
       "</style>\n",
       "<table border=\"1\" class=\"dataframe\">\n",
       "  <thead>\n",
       "    <tr style=\"text-align: right;\">\n",
       "      <th></th>\n",
       "      <th>model_dim</th>\n",
       "      <th>num_heads</th>\n",
       "      <th>num_layers</th>\n",
       "      <th>batch_size</th>\n",
       "      <th>lr</th>\n",
       "      <th>dropout</th>\n",
       "      <th>notation</th>\n",
       "      <th>evaluator</th>\n",
       "      <th>val_loss</th>\n",
       "      <th>task</th>\n",
       "    </tr>\n",
       "  </thead>\n",
       "  <tbody>\n",
       "    <tr>\n",
       "      <th>0</th>\n",
       "      <td>512</td>\n",
       "      <td>4</td>\n",
       "      <td>5</td>\n",
       "      <td>256</td>\n",
       "      <td>0.0001</td>\n",
       "      <td>0.3</td>\n",
       "      <td>fragSMILES</td>\n",
       "      <td>&lt;src.evaluator.ForwardEvaluator object at 0x7f...</td>\n",
       "      <td>0.243751</td>\n",
       "      <td>forward</td>\n",
       "    </tr>\n",
       "    <tr>\n",
       "      <th>1</th>\n",
       "      <td>512</td>\n",
       "      <td>4</td>\n",
       "      <td>5</td>\n",
       "      <td>256</td>\n",
       "      <td>0.0001</td>\n",
       "      <td>0.3</td>\n",
       "      <td>SAFE</td>\n",
       "      <td>&lt;src.evaluator.ForwardEvaluator object at 0x7f...</td>\n",
       "      <td>0.216205</td>\n",
       "      <td>forward</td>\n",
       "    </tr>\n",
       "    <tr>\n",
       "      <th>2</th>\n",
       "      <td>256</td>\n",
       "      <td>4</td>\n",
       "      <td>3</td>\n",
       "      <td>512</td>\n",
       "      <td>0.0010</td>\n",
       "      <td>0.3</td>\n",
       "      <td>SELFIES</td>\n",
       "      <td>&lt;src.evaluator.ForwardEvaluator object at 0x7f...</td>\n",
       "      <td>0.262889</td>\n",
       "      <td>forward</td>\n",
       "    </tr>\n",
       "    <tr>\n",
       "      <th>3</th>\n",
       "      <td>256</td>\n",
       "      <td>4</td>\n",
       "      <td>4</td>\n",
       "      <td>512</td>\n",
       "      <td>0.0010</td>\n",
       "      <td>0.3</td>\n",
       "      <td>SMILES</td>\n",
       "      <td>&lt;src.evaluator.ForwardEvaluator object at 0x7f...</td>\n",
       "      <td>0.115879</td>\n",
       "      <td>forward</td>\n",
       "    </tr>\n",
       "    <tr>\n",
       "      <th>4</th>\n",
       "      <td>512</td>\n",
       "      <td>4</td>\n",
       "      <td>5</td>\n",
       "      <td>256</td>\n",
       "      <td>0.0001</td>\n",
       "      <td>0.3</td>\n",
       "      <td>fragSMILES</td>\n",
       "      <td>&lt;src.evaluator.BackwardEvaluator object at 0x7...</td>\n",
       "      <td>0.541880</td>\n",
       "      <td>backward</td>\n",
       "    </tr>\n",
       "    <tr>\n",
       "      <th>5</th>\n",
       "      <td>256</td>\n",
       "      <td>4</td>\n",
       "      <td>4</td>\n",
       "      <td>512</td>\n",
       "      <td>0.0010</td>\n",
       "      <td>0.3</td>\n",
       "      <td>SAFE</td>\n",
       "      <td>&lt;src.evaluator.BackwardEvaluator object at 0x7...</td>\n",
       "      <td>0.355816</td>\n",
       "      <td>backward</td>\n",
       "    </tr>\n",
       "    <tr>\n",
       "      <th>6</th>\n",
       "      <td>256</td>\n",
       "      <td>4</td>\n",
       "      <td>3</td>\n",
       "      <td>256</td>\n",
       "      <td>0.0010</td>\n",
       "      <td>0.3</td>\n",
       "      <td>SELFIES</td>\n",
       "      <td>&lt;src.evaluator.BackwardEvaluator object at 0x7...</td>\n",
       "      <td>0.430977</td>\n",
       "      <td>backward</td>\n",
       "    </tr>\n",
       "    <tr>\n",
       "      <th>7</th>\n",
       "      <td>256</td>\n",
       "      <td>4</td>\n",
       "      <td>4</td>\n",
       "      <td>512</td>\n",
       "      <td>0.0010</td>\n",
       "      <td>0.3</td>\n",
       "      <td>SMILES</td>\n",
       "      <td>&lt;src.evaluator.BackwardEvaluator object at 0x7...</td>\n",
       "      <td>0.286131</td>\n",
       "      <td>backward</td>\n",
       "    </tr>\n",
       "  </tbody>\n",
       "</table>\n",
       "</div>"
      ],
      "text/plain": [
       "   model_dim  num_heads  num_layers  batch_size      lr  dropout    notation  \\\n",
       "0        512          4           5         256  0.0001      0.3  fragSMILES   \n",
       "1        512          4           5         256  0.0001      0.3        SAFE   \n",
       "2        256          4           3         512  0.0010      0.3     SELFIES   \n",
       "3        256          4           4         512  0.0010      0.3      SMILES   \n",
       "4        512          4           5         256  0.0001      0.3  fragSMILES   \n",
       "5        256          4           4         512  0.0010      0.3        SAFE   \n",
       "6        256          4           3         256  0.0010      0.3     SELFIES   \n",
       "7        256          4           4         512  0.0010      0.3      SMILES   \n",
       "\n",
       "                                           evaluator  val_loss      task  \n",
       "0  <src.evaluator.ForwardEvaluator object at 0x7f...  0.243751   forward  \n",
       "1  <src.evaluator.ForwardEvaluator object at 0x7f...  0.216205   forward  \n",
       "2  <src.evaluator.ForwardEvaluator object at 0x7f...  0.262889   forward  \n",
       "3  <src.evaluator.ForwardEvaluator object at 0x7f...  0.115879   forward  \n",
       "4  <src.evaluator.BackwardEvaluator object at 0x7...  0.541880  backward  \n",
       "5  <src.evaluator.BackwardEvaluator object at 0x7...  0.355816  backward  \n",
       "6  <src.evaluator.BackwardEvaluator object at 0x7...  0.430977  backward  \n",
       "7  <src.evaluator.BackwardEvaluator object at 0x7...  0.286131  backward  "
      ]
     },
     "execution_count": 22,
     "metadata": {},
     "output_type": "execute_result"
    }
   ],
   "source": [
    "best_of_full"
   ]
  },
  {
   "cell_type": "raw",
   "metadata": {
    "vscode": {
     "languageId": "raw"
    }
   },
   "source": [
    "best_of_full.drop(columns=['evaluator','val_loss']).to_latex('floats/tables/bestof_full_setup.tex', index=False)"
   ]
  },
  {
   "cell_type": "markdown",
   "metadata": {},
   "source": [
    "## Logs"
   ]
  },
  {
   "cell_type": "code",
   "execution_count": 18,
   "metadata": {},
   "outputs": [
    {
     "data": {
      "image/png": "[encoded data removed]",
      "text/plain": [
       "<Figure size 640x480 with 1 Axes>"
      ]
     },
     "metadata": {},
     "output_type": "display_data"
    }
   ],
   "source": [
    "ax = plt.gca()\n",
    "\n",
    "evaluator = best_of_forward.loc[0,'evaluator']\n",
    "evaluator.plot_logs(ax)"
   ]
  },
  {
   "cell_type": "markdown",
   "metadata": {},
   "source": [
    "# Path experiments for bestof setup"
   ]
  },
  {
   "cell_type": "code",
   "execution_count": 25,
   "metadata": {},
   "outputs": [
    {
     "name": "stdout",
     "output_type": "stream",
     "text": [
      "./experiments_reactions/task=forward/notation=fragsmiles/model_dim=512-num_heads=4-num_layers=5/batch_size=256-lr=0.0001-dropout=0.3\n",
      "./experiments_reactions/task=forward/notation=safe/model_dim=512-num_heads=4-num_layers=5/batch_size=256-lr=0.0001-dropout=0.3\n",
      "./experiments_reactions/task=forward/notation=selfies/model_dim=256-num_heads=4-num_layers=3/batch_size=512-lr=0.001-dropout=0.3\n",
      "./experiments_reactions/task=forward/notation=smiles/model_dim=256-num_heads=4-num_layers=4/batch_size=512-lr=0.001-dropout=0.3\n"
     ]
    }
   ],
   "source": [
    "# forward\n",
    "for evaluator in best_of_forward.evaluator:\n",
    "    print(evaluator.DIR_SETUP)"
   ]
  },
  {
   "cell_type": "code",
   "execution_count": null,
   "metadata": {},
   "outputs": [
    {
     "name": "stdout",
     "output_type": "stream",
     "text": [
      "./experiments_reactions/task=backward/notation=fragsmiles/model_dim=512-num_heads=4-num_layers=5/batch_size=256-lr=0.0001-dropout=0.3\n",
      "./experiments_reactions/task=backward/notation=safe/model_dim=256-num_heads=4-num_layers=4/batch_size=512-lr=0.001-dropout=0.3\n",
      "./experiments_reactions/task=backward/notation=selfies/model_dim=256-num_heads=4-num_layers=3/batch_size=256-lr=0.001-dropout=0.3\n",
      "./experiments_reactions/task=backward/notation=smiles/model_dim=256-num_heads=4-num_layers=4/batch_size=512-lr=0.001-dropout=0.3\n"
     ]
    }
   ],
   "source": [
    "# backward\n",
    "for evaluator in best_of_backward.evaluator:\n",
    "    print(evaluator.DIR_SETUP)"
   ]
  }
 ],
 "metadata": {
  "kernelspec": {
   "display_name": ".venv",
   "language": "python",
   "name": "python3"
  },
  "language_info": {
   "codemirror_mode": {
    "name": "ipython",
    "version": 3
   },
   "file_extension": ".py",
   "mimetype": "text/x-python",
   "name": "python",
   "nbconvert_exporter": "python",
   "pygments_lexer": "ipython3",
   "version": "3.12.6"
  }
 },
 "nbformat": 4,
 "nbformat_minor": 2
}
