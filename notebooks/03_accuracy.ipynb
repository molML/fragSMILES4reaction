{
 "cells": [
  {
   "cell_type": "code",
   "execution_count": null,
   "metadata": {},
   "outputs": [],
   "source": [
    "%cd ..\n",
    "import pandas as pd\n",
    "import numpy as np\n",
    "import os\n",
    "from matplotlib import pyplot as plt\n",
    "from rdkit import Chem"
   ]
  },
  {
   "cell_type": "code",
   "execution_count": 2,
   "metadata": {},
   "outputs": [],
   "source": [
    "from src.utils.extra import notation_table"
   ]
  },
  {
   "cell_type": "raw",
   "metadata": {},
   "source": [
    "plt.style.use('dark_background')"
   ]
  },
  {
   "cell_type": "code",
   "execution_count": 3,
   "metadata": {},
   "outputs": [],
   "source": [
    "%load_ext autoreload\n",
    "%autoreload 2"
   ]
  },
  {
   "cell_type": "code",
   "execution_count": 4,
   "metadata": {},
   "outputs": [],
   "source": [
    "from src.evaluator import Evaluator, ForwardEvaluator, BackwardEvaluator"
   ]
  },
  {
   "cell_type": "markdown",
   "metadata": {},
   "source": [
    "## Loading Evaluators"
   ]
  },
  {
   "cell_type": "code",
   "execution_count": null,
   "metadata": {},
   "outputs": [],
   "source": [
    "bestof_forward_setup = pd.read_csv('bestof_setup/best_forward_settings.csv')\n",
    "bestof_backward_setup = pd.read_csv('bestof_setup/best_backward_settings.csv')"
   ]
  },
  {
   "cell_type": "code",
   "execution_count": 6,
   "metadata": {},
   "outputs": [
    {
     "data": {
      "application/vnd.microsoft.datawrangler.viewer.v0+json": {
       "columns": [
        {
         "name": "index",
         "rawType": "int64",
         "type": "integer"
        },
        {
         "name": "model_dim",
         "rawType": "int64",
         "type": "integer"
        },
        {
         "name": "num_heads",
         "rawType": "int64",
         "type": "integer"
        },
        {
         "name": "num_layers",
         "rawType": "int64",
         "type": "integer"
        },
        {
         "name": "batch_size",
         "rawType": "int64",
         "type": "integer"
        },
        {
         "name": "lr",
         "rawType": "float64",
         "type": "float"
        },
        {
         "name": "dropout",
         "rawType": "float64",
         "type": "float"
        },
        {
         "name": "notation",
         "rawType": "object",
         "type": "string"
        },
        {
         "name": "task",
         "rawType": "object",
         "type": "string"
        }
       ],
       "conversionMethod": "pd.DataFrame",
       "ref": "45d6e97b-3391-4331-b0c8-382dc2f377d5",
       "rows": [
        [
         "0",
         "512",
         "4",
         "5",
         "256",
         "0.0001",
         "0.3",
         "fragsmiles",
         "forward"
        ],
        [
         "1",
         "512",
         "4",
         "5",
         "256",
         "0.0001",
         "0.3",
         "safe",
         "forward"
        ],
        [
         "2",
         "256",
         "4",
         "3",
         "512",
         "0.001",
         "0.3",
         "selfies",
         "forward"
        ],
        [
         "3",
         "256",
         "4",
         "4",
         "512",
         "0.001",
         "0.3",
         "smiles",
         "forward"
        ]
       ],
       "shape": {
        "columns": 8,
        "rows": 4
       }
      },
      "text/html": [
       "<div>\n",
       "<style scoped>\n",
       "    .dataframe tbody tr th:only-of-type {\n",
       "        vertical-align: middle;\n",
       "    }\n",
       "\n",
       "    .dataframe tbody tr th {\n",
       "        vertical-align: top;\n",
       "    }\n",
       "\n",
       "    .dataframe thead th {\n",
       "        text-align: right;\n",
       "    }\n",
       "</style>\n",
       "<table border=\"1\" class=\"dataframe\">\n",
       "  <thead>\n",
       "    <tr style=\"text-align: right;\">\n",
       "      <th></th>\n",
       "      <th>model_dim</th>\n",
       "      <th>num_heads</th>\n",
       "      <th>num_layers</th>\n",
       "      <th>batch_size</th>\n",
       "      <th>lr</th>\n",
       "      <th>dropout</th>\n",
       "      <th>notation</th>\n",
       "      <th>task</th>\n",
       "    </tr>\n",
       "  </thead>\n",
       "  <tbody>\n",
       "    <tr>\n",
       "      <th>0</th>\n",
       "      <td>512</td>\n",
       "      <td>4</td>\n",
       "      <td>5</td>\n",
       "      <td>256</td>\n",
       "      <td>0.0001</td>\n",
       "      <td>0.3</td>\n",
       "      <td>fragsmiles</td>\n",
       "      <td>forward</td>\n",
       "    </tr>\n",
       "    <tr>\n",
       "      <th>1</th>\n",
       "      <td>512</td>\n",
       "      <td>4</td>\n",
       "      <td>5</td>\n",
       "      <td>256</td>\n",
       "      <td>0.0001</td>\n",
       "      <td>0.3</td>\n",
       "      <td>safe</td>\n",
       "      <td>forward</td>\n",
       "    </tr>\n",
       "    <tr>\n",
       "      <th>2</th>\n",
       "      <td>256</td>\n",
       "      <td>4</td>\n",
       "      <td>3</td>\n",
       "      <td>512</td>\n",
       "      <td>0.0010</td>\n",
       "      <td>0.3</td>\n",
       "      <td>selfies</td>\n",
       "      <td>forward</td>\n",
       "    </tr>\n",
       "    <tr>\n",
       "      <th>3</th>\n",
       "      <td>256</td>\n",
       "      <td>4</td>\n",
       "      <td>4</td>\n",
       "      <td>512</td>\n",
       "      <td>0.0010</td>\n",
       "      <td>0.3</td>\n",
       "      <td>smiles</td>\n",
       "      <td>forward</td>\n",
       "    </tr>\n",
       "  </tbody>\n",
       "</table>\n",
       "</div>"
      ],
      "text/plain": [
       "   model_dim  num_heads  num_layers  batch_size      lr  dropout    notation  \\\n",
       "0        512          4           5         256  0.0001      0.3  fragsmiles   \n",
       "1        512          4           5         256  0.0001      0.3        safe   \n",
       "2        256          4           3         512  0.0010      0.3     selfies   \n",
       "3        256          4           4         512  0.0010      0.3      smiles   \n",
       "\n",
       "      task  \n",
       "0  forward  \n",
       "1  forward  \n",
       "2  forward  \n",
       "3  forward  "
      ]
     },
     "execution_count": 6,
     "metadata": {},
     "output_type": "execute_result"
    }
   ],
   "source": [
    "bestof_forward_setup"
   ]
  },
  {
   "cell_type": "code",
   "execution_count": 7,
   "metadata": {},
   "outputs": [],
   "source": [
    "def load_everything(evaluator):\n",
    "\n",
    "    if mask_preds:=evaluator.load_pred_tokens() is False:\n",
    "        return None\n",
    "        \n",
    "    if mask_mols:=evaluator.load_mols() is False:\n",
    "        return None\n",
    "\n",
    "    if mask_mols:=evaluator.load_mols_strict() is False:\n",
    "        return None\n",
    "\n",
    "    return evaluator"
   ]
  },
  {
   "cell_type": "code",
   "execution_count": 8,
   "metadata": {},
   "outputs": [],
   "source": [
    "evaluators_forward = {\n",
    "    kwargs['notation']:Evaluator.from_dict_args(kwargs)\n",
    "    for kwargs in bestof_forward_setup.astype(str).to_dict('records')\n",
    "}"
   ]
  },
  {
   "cell_type": "code",
   "execution_count": 9,
   "metadata": {},
   "outputs": [],
   "source": [
    "evaluators_backward = {\n",
    "    kwargs['notation']:Evaluator.from_dict_args(kwargs)\n",
    "    for kwargs in bestof_backward_setup.astype(str).to_dict('records')\n",
    "}"
   ]
  },
  {
   "cell_type": "code",
   "execution_count": 10,
   "metadata": {},
   "outputs": [],
   "source": [
    "for evaluator in evaluators_forward.values():\n",
    "    load_everything(evaluator)"
   ]
  },
  {
   "cell_type": "code",
   "execution_count": 11,
   "metadata": {},
   "outputs": [],
   "source": [
    "for evaluator in evaluators_backward.values():\n",
    "    load_everything(evaluator)"
   ]
  },
  {
   "cell_type": "markdown",
   "metadata": {},
   "source": [
    "# Extra functions"
   ]
  },
  {
   "cell_type": "code",
   "execution_count": 12,
   "metadata": {},
   "outputs": [],
   "source": [
    "from src.utils.extra import as_percent_str, annotate_heatmap"
   ]
  },
  {
   "cell_type": "code",
   "execution_count": 13,
   "metadata": {},
   "outputs": [],
   "source": [
    "from jinja2 import Environment, FileSystemLoader\n",
    "\n",
    "env = Environment(\n",
    "    loader=FileSystemLoader('.'),\n",
    ")"
   ]
  },
  {
   "cell_type": "code",
   "execution_count": 14,
   "metadata": {},
   "outputs": [],
   "source": [
    "NOTATIONS = notation_table['name']\n",
    "from itertools import combinations\n",
    "def overlap_accurates(dict_evaluators, k, chirality=False):\n",
    "    adj = pd.DataFrame(index=NOTATIONS, columns=NOTATIONS)\n",
    "    adj = adj.map(lambda x: 0.0)\n",
    "\n",
    "    for (not1,ev1),(not2,ev2) in combinations(dict_evaluators.items(), 2):\n",
    "        if not chirality:\n",
    "            data1=ev1.accurates[:,:k+1].any(axis=1)\n",
    "            data2=ev2.accurates[:,:k+1].any(axis=1)\n",
    "        else:\n",
    "            data1=ev1.chiral_accurates[:,:k+1].any(axis=1)\n",
    "            data2=ev2.chiral_accurates[:,:k+1].any(axis=1)\n",
    "\n",
    "        inters = data1 | data2\n",
    "        union = data1 & data2\n",
    "        value = union.sum() / inters.sum()\n",
    "\n",
    "        not1 = notation_table.loc[not1,'name']\n",
    "        not2 = notation_table.loc[not2,'name']\n",
    "\n",
    "        adj.at[not1,not2] = value\n",
    "        adj.at[not2,not1] = value\n",
    "\n",
    "    return adj"
   ]
  },
  {
   "cell_type": "markdown",
   "metadata": {},
   "source": [
    "# Accuracy Full dataset"
   ]
  },
  {
   "cell_type": "code",
   "execution_count": 15,
   "metadata": {},
   "outputs": [],
   "source": [
    "forward_valid=pd.DataFrame.from_dict(\n",
    "    {\n",
    "        f'top{k+1}' : {\n",
    "            notation_table.loc[notation,'name']: evaluator.validity(k)\n",
    "            for notation, evaluator in evaluators_forward.items()\n",
    "        }\n",
    "        for k in range(5)\n",
    "    }\n",
    ")\n",
    "\n",
    "forward_accuracy=pd.DataFrame.from_dict(\n",
    "    {\n",
    "        f'top{k+1}' : {\n",
    "            notation_table.loc[notation,'name']: evaluator.accuracy(k)\n",
    "            for notation, evaluator in evaluators_forward.items()\n",
    "        }\n",
    "        for k in range(5)\n",
    "    }\n",
    ")"
   ]
  },
  {
   "cell_type": "code",
   "execution_count": 16,
   "metadata": {},
   "outputs": [],
   "source": [
    "backward_valid=pd.DataFrame.from_dict(\n",
    "    {\n",
    "        f'top{k+1}' : {\n",
    "            notation_table.loc[notation,'name']: evaluator.validity(k)\n",
    "            for notation, evaluator in evaluators_backward.items()\n",
    "        }\n",
    "        for k in range(5)\n",
    "    }\n",
    ")\n",
    "\n",
    "backward_accuracy=pd.DataFrame.from_dict(\n",
    "    {\n",
    "        f'top{k+1}' : {\n",
    "            notation_table.loc[notation,'name']: evaluator.accuracy(k)\n",
    "            for notation, evaluator in evaluators_backward.items()\n",
    "        }\n",
    "        for k in range(5)\n",
    "    }\n",
    ")"
   ]
  },
  {
   "cell_type": "code",
   "execution_count": 17,
   "metadata": {},
   "outputs": [
    {
     "data": {
      "application/vnd.microsoft.datawrangler.viewer.v0+json": {
       "columns": [
        {
         "name": "index",
         "rawType": "object",
         "type": "string"
        },
        {
         "name": "top1",
         "rawType": "int64",
         "type": "integer"
        },
        {
         "name": "top2",
         "rawType": "int64",
         "type": "integer"
        },
        {
         "name": "top3",
         "rawType": "int64",
         "type": "integer"
        },
        {
         "name": "top4",
         "rawType": "int64",
         "type": "integer"
        },
        {
         "name": "top5",
         "rawType": "int64",
         "type": "integer"
        }
       ],
       "conversionMethod": "pd.DataFrame",
       "ref": "5c2860a7-3ca4-4ed5-a985-092a94068f40",
       "rows": [
        [
         "fragSMILES",
         "26830",
         "30291",
         "32030",
         "33020",
         "33697"
        ],
        [
         "SAFE",
         "15151",
         "18758",
         "20557",
         "21609",
         "22169"
        ],
        [
         "SELFIES",
         "10538",
         "13415",
         "14911",
         "15904",
         "16591"
        ],
        [
         "SMILES",
         "25053",
         "29264",
         "31136",
         "32308",
         "32991"
        ]
       ],
       "shape": {
        "columns": 5,
        "rows": 4
       }
      },
      "text/html": [
       "<div>\n",
       "<style scoped>\n",
       "    .dataframe tbody tr th:only-of-type {\n",
       "        vertical-align: middle;\n",
       "    }\n",
       "\n",
       "    .dataframe tbody tr th {\n",
       "        vertical-align: top;\n",
       "    }\n",
       "\n",
       "    .dataframe thead th {\n",
       "        text-align: right;\n",
       "    }\n",
       "</style>\n",
       "<table border=\"1\" class=\"dataframe\">\n",
       "  <thead>\n",
       "    <tr style=\"text-align: right;\">\n",
       "      <th></th>\n",
       "      <th>top1</th>\n",
       "      <th>top2</th>\n",
       "      <th>top3</th>\n",
       "      <th>top4</th>\n",
       "      <th>top5</th>\n",
       "    </tr>\n",
       "  </thead>\n",
       "  <tbody>\n",
       "    <tr>\n",
       "      <th>fragSMILES</th>\n",
       "      <td>26830</td>\n",
       "      <td>30291</td>\n",
       "      <td>32030</td>\n",
       "      <td>33020</td>\n",
       "      <td>33697</td>\n",
       "    </tr>\n",
       "    <tr>\n",
       "      <th>SAFE</th>\n",
       "      <td>15151</td>\n",
       "      <td>18758</td>\n",
       "      <td>20557</td>\n",
       "      <td>21609</td>\n",
       "      <td>22169</td>\n",
       "    </tr>\n",
       "    <tr>\n",
       "      <th>SELFIES</th>\n",
       "      <td>10538</td>\n",
       "      <td>13415</td>\n",
       "      <td>14911</td>\n",
       "      <td>15904</td>\n",
       "      <td>16591</td>\n",
       "    </tr>\n",
       "    <tr>\n",
       "      <th>SMILES</th>\n",
       "      <td>25053</td>\n",
       "      <td>29264</td>\n",
       "      <td>31136</td>\n",
       "      <td>32308</td>\n",
       "      <td>32991</td>\n",
       "    </tr>\n",
       "  </tbody>\n",
       "</table>\n",
       "</div>"
      ],
      "text/plain": [
       "             top1   top2   top3   top4   top5\n",
       "fragSMILES  26830  30291  32030  33020  33697\n",
       "SAFE        15151  18758  20557  21609  22169\n",
       "SELFIES     10538  13415  14911  15904  16591\n",
       "SMILES      25053  29264  31136  32308  32991"
      ]
     },
     "execution_count": 17,
     "metadata": {},
     "output_type": "execute_result"
    }
   ],
   "source": [
    "forward_accuracy"
   ]
  },
  {
   "cell_type": "code",
   "execution_count": 18,
   "metadata": {},
   "outputs": [
    {
     "data": {
      "application/vnd.microsoft.datawrangler.viewer.v0+json": {
       "columns": [
        {
         "name": "index",
         "rawType": "object",
         "type": "string"
        },
        {
         "name": "top1",
         "rawType": "int64",
         "type": "integer"
        },
        {
         "name": "top2",
         "rawType": "int64",
         "type": "integer"
        },
        {
         "name": "top3",
         "rawType": "int64",
         "type": "integer"
        },
        {
         "name": "top4",
         "rawType": "int64",
         "type": "integer"
        },
        {
         "name": "top5",
         "rawType": "int64",
         "type": "integer"
        }
       ],
       "conversionMethod": "pd.DataFrame",
       "ref": "45043358-401a-44f5-8c23-218f9ba2b235",
       "rows": [
        [
         "fragSMILES",
         "26830",
         "30291",
         "32030",
         "33020",
         "33697"
        ],
        [
         "SAFE",
         "15151",
         "18758",
         "20557",
         "21609",
         "22169"
        ],
        [
         "SELFIES",
         "10538",
         "13415",
         "14911",
         "15904",
         "16591"
        ],
        [
         "SMILES",
         "25053",
         "29264",
         "31136",
         "32308",
         "32991"
        ]
       ],
       "shape": {
        "columns": 5,
        "rows": 4
       }
      },
      "text/html": [
       "<div>\n",
       "<style scoped>\n",
       "    .dataframe tbody tr th:only-of-type {\n",
       "        vertical-align: middle;\n",
       "    }\n",
       "\n",
       "    .dataframe tbody tr th {\n",
       "        vertical-align: top;\n",
       "    }\n",
       "\n",
       "    .dataframe thead th {\n",
       "        text-align: right;\n",
       "    }\n",
       "</style>\n",
       "<table border=\"1\" class=\"dataframe\">\n",
       "  <thead>\n",
       "    <tr style=\"text-align: right;\">\n",
       "      <th></th>\n",
       "      <th>top1</th>\n",
       "      <th>top2</th>\n",
       "      <th>top3</th>\n",
       "      <th>top4</th>\n",
       "      <th>top5</th>\n",
       "    </tr>\n",
       "  </thead>\n",
       "  <tbody>\n",
       "    <tr>\n",
       "      <th>fragSMILES</th>\n",
       "      <td>26830</td>\n",
       "      <td>30291</td>\n",
       "      <td>32030</td>\n",
       "      <td>33020</td>\n",
       "      <td>33697</td>\n",
       "    </tr>\n",
       "    <tr>\n",
       "      <th>SAFE</th>\n",
       "      <td>15151</td>\n",
       "      <td>18758</td>\n",
       "      <td>20557</td>\n",
       "      <td>21609</td>\n",
       "      <td>22169</td>\n",
       "    </tr>\n",
       "    <tr>\n",
       "      <th>SELFIES</th>\n",
       "      <td>10538</td>\n",
       "      <td>13415</td>\n",
       "      <td>14911</td>\n",
       "      <td>15904</td>\n",
       "      <td>16591</td>\n",
       "    </tr>\n",
       "    <tr>\n",
       "      <th>SMILES</th>\n",
       "      <td>25053</td>\n",
       "      <td>29264</td>\n",
       "      <td>31136</td>\n",
       "      <td>32308</td>\n",
       "      <td>32991</td>\n",
       "    </tr>\n",
       "  </tbody>\n",
       "</table>\n",
       "</div>"
      ],
      "text/plain": [
       "             top1   top2   top3   top4   top5\n",
       "fragSMILES  26830  30291  32030  33020  33697\n",
       "SAFE        15151  18758  20557  21609  22169\n",
       "SELFIES     10538  13415  14911  15904  16591\n",
       "SMILES      25053  29264  31136  32308  32991"
      ]
     },
     "execution_count": 18,
     "metadata": {},
     "output_type": "execute_result"
    }
   ],
   "source": [
    "forward_accuracy"
   ]
  },
  {
   "cell_type": "code",
   "execution_count": 19,
   "metadata": {},
   "outputs": [
    {
     "data": {
      "application/vnd.microsoft.datawrangler.viewer.v0+json": {
       "columns": [
        {
         "name": "index",
         "rawType": "object",
         "type": "string"
        },
        {
         "name": "top1",
         "rawType": "int64",
         "type": "integer"
        },
        {
         "name": "top2",
         "rawType": "int64",
         "type": "integer"
        },
        {
         "name": "top3",
         "rawType": "int64",
         "type": "integer"
        },
        {
         "name": "top4",
         "rawType": "int64",
         "type": "integer"
        },
        {
         "name": "top5",
         "rawType": "int64",
         "type": "integer"
        }
       ],
       "conversionMethod": "pd.DataFrame",
       "ref": "7e573f09-7a64-4dbc-acdd-98bdd4e8a7fa",
       "rows": [
        [
         "fragSMILES",
         "4230",
         "6128",
         "7587",
         "8904",
         "10089"
        ],
        [
         "SAFE",
         "3731",
         "4886",
         "5674",
         "6392",
         "6978"
        ],
        [
         "SELFIES",
         "0",
         "0",
         "2",
         "3",
         "3"
        ],
        [
         "SMILES",
         "4018",
         "5587",
         "6695",
         "7577",
         "8290"
        ]
       ],
       "shape": {
        "columns": 5,
        "rows": 4
       }
      },
      "text/html": [
       "<div>\n",
       "<style scoped>\n",
       "    .dataframe tbody tr th:only-of-type {\n",
       "        vertical-align: middle;\n",
       "    }\n",
       "\n",
       "    .dataframe tbody tr th {\n",
       "        vertical-align: top;\n",
       "    }\n",
       "\n",
       "    .dataframe thead th {\n",
       "        text-align: right;\n",
       "    }\n",
       "</style>\n",
       "<table border=\"1\" class=\"dataframe\">\n",
       "  <thead>\n",
       "    <tr style=\"text-align: right;\">\n",
       "      <th></th>\n",
       "      <th>top1</th>\n",
       "      <th>top2</th>\n",
       "      <th>top3</th>\n",
       "      <th>top4</th>\n",
       "      <th>top5</th>\n",
       "    </tr>\n",
       "  </thead>\n",
       "  <tbody>\n",
       "    <tr>\n",
       "      <th>fragSMILES</th>\n",
       "      <td>4230</td>\n",
       "      <td>6128</td>\n",
       "      <td>7587</td>\n",
       "      <td>8904</td>\n",
       "      <td>10089</td>\n",
       "    </tr>\n",
       "    <tr>\n",
       "      <th>SAFE</th>\n",
       "      <td>3731</td>\n",
       "      <td>4886</td>\n",
       "      <td>5674</td>\n",
       "      <td>6392</td>\n",
       "      <td>6978</td>\n",
       "    </tr>\n",
       "    <tr>\n",
       "      <th>SELFIES</th>\n",
       "      <td>0</td>\n",
       "      <td>0</td>\n",
       "      <td>2</td>\n",
       "      <td>3</td>\n",
       "      <td>3</td>\n",
       "    </tr>\n",
       "    <tr>\n",
       "      <th>SMILES</th>\n",
       "      <td>4018</td>\n",
       "      <td>5587</td>\n",
       "      <td>6695</td>\n",
       "      <td>7577</td>\n",
       "      <td>8290</td>\n",
       "    </tr>\n",
       "  </tbody>\n",
       "</table>\n",
       "</div>"
      ],
      "text/plain": [
       "            top1  top2  top3  top4   top5\n",
       "fragSMILES  4230  6128  7587  8904  10089\n",
       "SAFE        3731  4886  5674  6392   6978\n",
       "SELFIES        0     0     2     3      3\n",
       "SMILES      4018  5587  6695  7577   8290"
      ]
     },
     "execution_count": 19,
     "metadata": {},
     "output_type": "execute_result"
    }
   ],
   "source": [
    "backward_accuracy"
   ]
  },
  {
   "cell_type": "raw",
   "metadata": {
    "vscode": {
     "languageId": "raw"
    }
   },
   "source": [
    "metrics_table = {\n",
    "    'forward_valid':forward_valid.astype(str) + ' (' + (forward_valid/len(ForwardEvaluator.true_smiles)).map(as_percent_str)+')',\n",
    "    'forward_accuracy':forward_accuracy.astype(str) + ' (' + (forward_accuracy/len(BackwardEvaluator.true_smiles)).map(as_percent_str)+')',\n",
    "    'backward_valid':backward_valid.astype(str) + ' (' + (backward_valid/len(BackwardEvaluator.true_smiles)).map(as_percent_str)+')',\n",
    "    'backward_accuracy':backward_accuracy.astype(str) + ' (' + (backward_accuracy/len(BackwardEvaluator.true_smiles)).map(as_percent_str)+')',\n",
    "}\n",
    "\n",
    "template_table = env.get_template('floats/tables/templates/metrics_topk_template.tex')\n",
    "\n",
    "render_kwargs = {\n",
    "    name + f'_{index}_{column}':table.at[index,column]\n",
    "    for name,table in metrics_table.items()\n",
    "    for column in table.columns\n",
    "    for index in table.index\n",
    "}\n",
    "\n",
    "rendered_table = template_table.render(**render_kwargs)\n",
    "with open('floats/tables/metrics_topk.tex', 'w') as f:\n",
    "    f.write(rendered_table)"
   ]
  },
  {
   "cell_type": "markdown",
   "metadata": {},
   "source": [
    "## Strict chirality syntax"
   ]
  },
  {
   "cell_type": "code",
   "execution_count": 21,
   "metadata": {},
   "outputs": [],
   "source": [
    "forward_valid_strict=pd.DataFrame.from_dict(\n",
    "    {\n",
    "        f'top{k+1}' : {\n",
    "            notation_table.loc[notation,'name']: evaluator.validity(k, strict_chiral=True)\n",
    "            for notation, evaluator in evaluators_forward.items()\n",
    "        }\n",
    "        for k in range(5)\n",
    "    }\n",
    ")\n",
    "\n",
    "forward_accuracy_strict=pd.DataFrame.from_dict(\n",
    "    {\n",
    "        f'top{k+1}' : {\n",
    "            notation_table.loc[notation,'name']: evaluator.accuracy(k, strict_chiral=True)\n",
    "            for notation, evaluator in evaluators_forward.items()\n",
    "        }\n",
    "        for k in range(5)\n",
    "    }\n",
    ")"
   ]
  },
  {
   "cell_type": "code",
   "execution_count": 22,
   "metadata": {},
   "outputs": [],
   "source": [
    "backward_valid_strict=pd.DataFrame.from_dict(\n",
    "    {\n",
    "        f'top{k+1}' : {\n",
    "            notation_table.loc[notation,'name']: evaluator.validity(k, strict_chiral=True)\n",
    "            for notation, evaluator in evaluators_backward.items()\n",
    "        }\n",
    "        for k in range(5)\n",
    "    }\n",
    ")\n",
    "\n",
    "backward_accuracy_strict=pd.DataFrame.from_dict(\n",
    "    {\n",
    "        f'top{k+1}' : {\n",
    "            notation_table.loc[notation,'name']: evaluator.accuracy(k, strict_chiral=True)\n",
    "            for notation, evaluator in evaluators_backward.items()\n",
    "        }\n",
    "        for k in range(5)\n",
    "    }\n",
    ")"
   ]
  },
  {
   "cell_type": "code",
   "execution_count": 23,
   "metadata": {},
   "outputs": [
    {
     "data": {
      "application/vnd.microsoft.datawrangler.viewer.v0+json": {
       "columns": [
        {
         "name": "index",
         "rawType": "object",
         "type": "string"
        },
        {
         "name": "top1",
         "rawType": "int64",
         "type": "integer"
        },
        {
         "name": "top2",
         "rawType": "int64",
         "type": "integer"
        },
        {
         "name": "top3",
         "rawType": "int64",
         "type": "integer"
        },
        {
         "name": "top4",
         "rawType": "int64",
         "type": "integer"
        },
        {
         "name": "top5",
         "rawType": "int64",
         "type": "integer"
        }
       ],
       "conversionMethod": "pd.DataFrame",
       "ref": "506879f3-b81a-4bf2-8ab8-15204b2a2bec",
       "rows": [
        [
         "fragSMILES",
         "26826",
         "30287",
         "32026",
         "33015",
         "33692"
        ],
        [
         "SAFE",
         "15151",
         "18758",
         "20557",
         "21609",
         "22169"
        ],
        [
         "SELFIES",
         "10538",
         "13415",
         "14911",
         "15904",
         "16591"
        ],
        [
         "SMILES",
         "25053",
         "29261",
         "31133",
         "32305",
         "32988"
        ]
       ],
       "shape": {
        "columns": 5,
        "rows": 4
       }
      },
      "text/html": [
       "<div>\n",
       "<style scoped>\n",
       "    .dataframe tbody tr th:only-of-type {\n",
       "        vertical-align: middle;\n",
       "    }\n",
       "\n",
       "    .dataframe tbody tr th {\n",
       "        vertical-align: top;\n",
       "    }\n",
       "\n",
       "    .dataframe thead th {\n",
       "        text-align: right;\n",
       "    }\n",
       "</style>\n",
       "<table border=\"1\" class=\"dataframe\">\n",
       "  <thead>\n",
       "    <tr style=\"text-align: right;\">\n",
       "      <th></th>\n",
       "      <th>top1</th>\n",
       "      <th>top2</th>\n",
       "      <th>top3</th>\n",
       "      <th>top4</th>\n",
       "      <th>top5</th>\n",
       "    </tr>\n",
       "  </thead>\n",
       "  <tbody>\n",
       "    <tr>\n",
       "      <th>fragSMILES</th>\n",
       "      <td>26826</td>\n",
       "      <td>30287</td>\n",
       "      <td>32026</td>\n",
       "      <td>33015</td>\n",
       "      <td>33692</td>\n",
       "    </tr>\n",
       "    <tr>\n",
       "      <th>SAFE</th>\n",
       "      <td>15151</td>\n",
       "      <td>18758</td>\n",
       "      <td>20557</td>\n",
       "      <td>21609</td>\n",
       "      <td>22169</td>\n",
       "    </tr>\n",
       "    <tr>\n",
       "      <th>SELFIES</th>\n",
       "      <td>10538</td>\n",
       "      <td>13415</td>\n",
       "      <td>14911</td>\n",
       "      <td>15904</td>\n",
       "      <td>16591</td>\n",
       "    </tr>\n",
       "    <tr>\n",
       "      <th>SMILES</th>\n",
       "      <td>25053</td>\n",
       "      <td>29261</td>\n",
       "      <td>31133</td>\n",
       "      <td>32305</td>\n",
       "      <td>32988</td>\n",
       "    </tr>\n",
       "  </tbody>\n",
       "</table>\n",
       "</div>"
      ],
      "text/plain": [
       "             top1   top2   top3   top4   top5\n",
       "fragSMILES  26826  30287  32026  33015  33692\n",
       "SAFE        15151  18758  20557  21609  22169\n",
       "SELFIES     10538  13415  14911  15904  16591\n",
       "SMILES      25053  29261  31133  32305  32988"
      ]
     },
     "execution_count": 23,
     "metadata": {},
     "output_type": "execute_result"
    }
   ],
   "source": [
    "forward_accuracy_strict"
   ]
  },
  {
   "cell_type": "raw",
   "metadata": {
    "vscode": {
     "languageId": "raw"
    }
   },
   "source": [
    "metrics_table = {\n",
    "    'forward_valid':forward_valid_strict.astype(str) + ' (' + (forward_valid_strict/len(ForwardEvaluator.true_smiles)).map(as_percent_str)+')',\n",
    "    'forward_accuracy':forward_accuracy_strict.astype(str) + ' (' + (forward_accuracy_strict/len(ForwardEvaluator.true_smiles)).map(as_percent_str)+')',\n",
    "    'backward_valid':backward_valid_strict.astype(str) + ' (' + (backward_valid_strict/len(BackwardEvaluator.true_smiles)).map(as_percent_str)+')',\n",
    "    'backward_accuracy':backward_accuracy_strict.astype(str) + ' (' + (backward_accuracy_strict/len(BackwardEvaluator.true_smiles)).map(as_percent_str)+')',\n",
    "}\n",
    "\n",
    "template_table = env.get_template('floats/tables/templates/metrics_topk_template.tex')\n",
    "\n",
    "render_kwargs = {\n",
    "    name + f'_{index}_{column}':table.at[index,column]\n",
    "    for name,table in metrics_table.items()\n",
    "    for column in table.columns\n",
    "    for index in table.index\n",
    "}\n",
    "\n",
    "rendered_table = template_table.render(**render_kwargs)\n",
    "with open('floats/tables/metrics_topk_strict.tex', 'w') as f:\n",
    "    f.write(rendered_table)"
   ]
  },
  {
   "cell_type": "markdown",
   "metadata": {},
   "source": [
    "## Overlap Metrics"
   ]
  },
  {
   "cell_type": "code",
   "execution_count": 25,
   "metadata": {},
   "outputs": [
    {
     "data": {
      "image/png": "[encoded data removed]",
      "text/plain": [
       "<Figure size 1600x700 with 11 Axes>"
      ]
     },
     "metadata": {},
     "output_type": "display_data"
    }
   ],
   "source": [
    "fig, axes = plt.subplots(nrows=2, ncols=5, figsize=(16,7), gridspec_kw={'hspace':.0,}, sharey=True)\n",
    "\n",
    "ticks = np.arange(len(notation_table))\n",
    "labels = notation_table.name.tolist()\n",
    "for row, evaluators in zip(axes, [evaluators_forward, evaluators_backward]):\n",
    "    for ax, k in zip(row, range(5)):\n",
    "\n",
    "        adj = overlap_accurates(evaluators, k).values\n",
    "        \n",
    "        im = ax.matshow(adj.astype(float), cmap = 'gnuplot', vmin=0.0, vmax=1.0)\n",
    "\n",
    "        ax.set_xticks(ticks, labels, rotation=30, ha=\"right\", rotation_mode=\"anchor\")\n",
    "        ax.xaxis.set_ticks_position(\"bottom\")\n",
    "        ax.set_yticks(ticks, labels)\n",
    "\n",
    "        ax.set_title(f'Top-{k+1}')\n",
    "\n",
    "        # Turn spines off and create white grid.\n",
    "        ax.spines[:].set_visible(False)\n",
    "\n",
    "        ax.set_xticks(ticks[:-1]+.5, minor=True)\n",
    "        ax.set_yticks(ticks[:-1]+.5, minor=True)\n",
    "\n",
    "        ax.grid(which=\"minor\", color=\"w\", linestyle='-', linewidth=4)\n",
    "        ax.tick_params(which=\"minor\", bottom=False, left=False)\n",
    "\n",
    "        annotate_heatmap(im, adj, textcolors=(\"white\", \"black\"), threshold=.7)\n",
    "\n",
    "axes[0,0].set_ylabel('Synthesis')\n",
    "axes[1,0].set_ylabel('Retrosynth')\n",
    "\n",
    "cbar = fig.colorbar(im, ax=axes.flatten(), orientation='vertical', pad = .02, location='right')\n",
    "cbar.set_label('(Intersection / Union) of correct predictions', rotation=-90, va='bottom')\n"
   ]
  },
  {
   "cell_type": "raw",
   "metadata": {
    "vscode": {
     "languageId": "raw"
    }
   },
   "source": [
    "fig.savefig('floats/figures/overlap.pdf', bbox_inches='tight')"
   ]
  },
  {
   "cell_type": "markdown",
   "metadata": {},
   "source": [
    "# Chiral Dataset Accuracy"
   ]
  },
  {
   "cell_type": "code",
   "execution_count": 27,
   "metadata": {},
   "outputs": [],
   "source": [
    "forward_chiral_valid=pd.DataFrame.from_dict(\n",
    "    {\n",
    "        f'top{k+1}' : {\n",
    "            notation_table.loc[notation,'name']: evaluator.chiral_validity(k)\n",
    "            for notation, evaluator in evaluators_forward.items()\n",
    "        }\n",
    "        for k in range(5)\n",
    "    }\n",
    ")\n",
    "\n",
    "forward_chiral_accuracy=pd.DataFrame.from_dict(\n",
    "    {\n",
    "        f'top{k+1}' : {\n",
    "            notation_table.loc[notation,'name']: evaluator.chiral_accuracy(k)\n",
    "            for notation, evaluator in evaluators_forward.items()\n",
    "        }\n",
    "        for k in range(5)\n",
    "    }\n",
    ")"
   ]
  },
  {
   "cell_type": "code",
   "execution_count": 28,
   "metadata": {},
   "outputs": [],
   "source": [
    "backward_chiral_valid=pd.DataFrame.from_dict(\n",
    "    {\n",
    "        f'top{k+1}' : {\n",
    "            notation_table.loc[notation,'name']: evaluator.chiral_validity(k)\n",
    "            for notation, evaluator in evaluators_backward.items()\n",
    "        }\n",
    "        for k in range(5)\n",
    "    }\n",
    ")\n",
    "\n",
    "backward_chiral_accuracy=pd.DataFrame.from_dict(\n",
    "    {\n",
    "        f'top{k+1}' : {\n",
    "            notation_table.loc[notation,'name']: evaluator.chiral_accuracy(k)\n",
    "            for notation, evaluator in evaluators_backward.items()\n",
    "        }\n",
    "        for k in range(5)\n",
    "    }\n",
    ")"
   ]
  },
  {
   "cell_type": "code",
   "execution_count": 29,
   "metadata": {},
   "outputs": [
    {
     "data": {
      "application/vnd.microsoft.datawrangler.viewer.v0+json": {
       "columns": [
        {
         "name": "index",
         "rawType": "object",
         "type": "string"
        },
        {
         "name": "top1",
         "rawType": "int64",
         "type": "integer"
        },
        {
         "name": "top2",
         "rawType": "int64",
         "type": "integer"
        },
        {
         "name": "top3",
         "rawType": "int64",
         "type": "integer"
        },
        {
         "name": "top4",
         "rawType": "int64",
         "type": "integer"
        },
        {
         "name": "top5",
         "rawType": "int64",
         "type": "integer"
        }
       ],
       "conversionMethod": "pd.DataFrame",
       "ref": "9ab8ffa9-4cff-48f3-8d88-681a7e67111a",
       "rows": [
        [
         "fragSMILES",
         "3805",
         "4349",
         "4656",
         "4830",
         "4962"
        ],
        [
         "SAFE",
         "1609",
         "2095",
         "2343",
         "2495",
         "2575"
        ],
        [
         "SELFIES",
         "1170",
         "1548",
         "1732",
         "1859",
         "1956"
        ],
        [
         "SMILES",
         "3331",
         "4147",
         "4479",
         "4681",
         "4812"
        ]
       ],
       "shape": {
        "columns": 5,
        "rows": 4
       }
      },
      "text/html": [
       "<div>\n",
       "<style scoped>\n",
       "    .dataframe tbody tr th:only-of-type {\n",
       "        vertical-align: middle;\n",
       "    }\n",
       "\n",
       "    .dataframe tbody tr th {\n",
       "        vertical-align: top;\n",
       "    }\n",
       "\n",
       "    .dataframe thead th {\n",
       "        text-align: right;\n",
       "    }\n",
       "</style>\n",
       "<table border=\"1\" class=\"dataframe\">\n",
       "  <thead>\n",
       "    <tr style=\"text-align: right;\">\n",
       "      <th></th>\n",
       "      <th>top1</th>\n",
       "      <th>top2</th>\n",
       "      <th>top3</th>\n",
       "      <th>top4</th>\n",
       "      <th>top5</th>\n",
       "    </tr>\n",
       "  </thead>\n",
       "  <tbody>\n",
       "    <tr>\n",
       "      <th>fragSMILES</th>\n",
       "      <td>3805</td>\n",
       "      <td>4349</td>\n",
       "      <td>4656</td>\n",
       "      <td>4830</td>\n",
       "      <td>4962</td>\n",
       "    </tr>\n",
       "    <tr>\n",
       "      <th>SAFE</th>\n",
       "      <td>1609</td>\n",
       "      <td>2095</td>\n",
       "      <td>2343</td>\n",
       "      <td>2495</td>\n",
       "      <td>2575</td>\n",
       "    </tr>\n",
       "    <tr>\n",
       "      <th>SELFIES</th>\n",
       "      <td>1170</td>\n",
       "      <td>1548</td>\n",
       "      <td>1732</td>\n",
       "      <td>1859</td>\n",
       "      <td>1956</td>\n",
       "    </tr>\n",
       "    <tr>\n",
       "      <th>SMILES</th>\n",
       "      <td>3331</td>\n",
       "      <td>4147</td>\n",
       "      <td>4479</td>\n",
       "      <td>4681</td>\n",
       "      <td>4812</td>\n",
       "    </tr>\n",
       "  </tbody>\n",
       "</table>\n",
       "</div>"
      ],
      "text/plain": [
       "            top1  top2  top3  top4  top5\n",
       "fragSMILES  3805  4349  4656  4830  4962\n",
       "SAFE        1609  2095  2343  2495  2575\n",
       "SELFIES     1170  1548  1732  1859  1956\n",
       "SMILES      3331  4147  4479  4681  4812"
      ]
     },
     "execution_count": 29,
     "metadata": {},
     "output_type": "execute_result"
    }
   ],
   "source": [
    "forward_chiral_accuracy"
   ]
  },
  {
   "cell_type": "code",
   "execution_count": 30,
   "metadata": {},
   "outputs": [
    {
     "data": {
      "application/vnd.microsoft.datawrangler.viewer.v0+json": {
       "columns": [
        {
         "name": "index",
         "rawType": "object",
         "type": "string"
        },
        {
         "name": "top1",
         "rawType": "int64",
         "type": "integer"
        },
        {
         "name": "top2",
         "rawType": "int64",
         "type": "integer"
        },
        {
         "name": "top3",
         "rawType": "int64",
         "type": "integer"
        },
        {
         "name": "top4",
         "rawType": "int64",
         "type": "integer"
        },
        {
         "name": "top5",
         "rawType": "int64",
         "type": "integer"
        }
       ],
       "conversionMethod": "pd.DataFrame",
       "ref": "aa0b099b-421c-432e-95cb-bb947f60fa0a",
       "rows": [
        [
         "fragSMILES",
         "3805",
         "4349",
         "4656",
         "4830",
         "4962"
        ],
        [
         "SAFE",
         "1609",
         "2095",
         "2343",
         "2495",
         "2575"
        ],
        [
         "SELFIES",
         "1170",
         "1548",
         "1732",
         "1859",
         "1956"
        ],
        [
         "SMILES",
         "3331",
         "4147",
         "4479",
         "4681",
         "4812"
        ]
       ],
       "shape": {
        "columns": 5,
        "rows": 4
       }
      },
      "text/html": [
       "<div>\n",
       "<style scoped>\n",
       "    .dataframe tbody tr th:only-of-type {\n",
       "        vertical-align: middle;\n",
       "    }\n",
       "\n",
       "    .dataframe tbody tr th {\n",
       "        vertical-align: top;\n",
       "    }\n",
       "\n",
       "    .dataframe thead th {\n",
       "        text-align: right;\n",
       "    }\n",
       "</style>\n",
       "<table border=\"1\" class=\"dataframe\">\n",
       "  <thead>\n",
       "    <tr style=\"text-align: right;\">\n",
       "      <th></th>\n",
       "      <th>top1</th>\n",
       "      <th>top2</th>\n",
       "      <th>top3</th>\n",
       "      <th>top4</th>\n",
       "      <th>top5</th>\n",
       "    </tr>\n",
       "  </thead>\n",
       "  <tbody>\n",
       "    <tr>\n",
       "      <th>fragSMILES</th>\n",
       "      <td>3805</td>\n",
       "      <td>4349</td>\n",
       "      <td>4656</td>\n",
       "      <td>4830</td>\n",
       "      <td>4962</td>\n",
       "    </tr>\n",
       "    <tr>\n",
       "      <th>SAFE</th>\n",
       "      <td>1609</td>\n",
       "      <td>2095</td>\n",
       "      <td>2343</td>\n",
       "      <td>2495</td>\n",
       "      <td>2575</td>\n",
       "    </tr>\n",
       "    <tr>\n",
       "      <th>SELFIES</th>\n",
       "      <td>1170</td>\n",
       "      <td>1548</td>\n",
       "      <td>1732</td>\n",
       "      <td>1859</td>\n",
       "      <td>1956</td>\n",
       "    </tr>\n",
       "    <tr>\n",
       "      <th>SMILES</th>\n",
       "      <td>3331</td>\n",
       "      <td>4147</td>\n",
       "      <td>4479</td>\n",
       "      <td>4681</td>\n",
       "      <td>4812</td>\n",
       "    </tr>\n",
       "  </tbody>\n",
       "</table>\n",
       "</div>"
      ],
      "text/plain": [
       "            top1  top2  top3  top4  top5\n",
       "fragSMILES  3805  4349  4656  4830  4962\n",
       "SAFE        1609  2095  2343  2495  2575\n",
       "SELFIES     1170  1548  1732  1859  1956\n",
       "SMILES      3331  4147  4479  4681  4812"
      ]
     },
     "execution_count": 30,
     "metadata": {},
     "output_type": "execute_result"
    }
   ],
   "source": [
    "forward_chiral_accuracy"
   ]
  },
  {
   "cell_type": "code",
   "execution_count": 31,
   "metadata": {},
   "outputs": [
    {
     "data": {
      "application/vnd.microsoft.datawrangler.viewer.v0+json": {
       "columns": [
        {
         "name": "index",
         "rawType": "object",
         "type": "string"
        },
        {
         "name": "top1",
         "rawType": "int64",
         "type": "integer"
        },
        {
         "name": "top2",
         "rawType": "int64",
         "type": "integer"
        },
        {
         "name": "top3",
         "rawType": "int64",
         "type": "integer"
        },
        {
         "name": "top4",
         "rawType": "int64",
         "type": "integer"
        },
        {
         "name": "top5",
         "rawType": "int64",
         "type": "integer"
        }
       ],
       "conversionMethod": "pd.DataFrame",
       "ref": "9f03db16-913f-4159-a456-8ab130cec87c",
       "rows": [
        [
         "fragSMILES",
         "620",
         "918",
         "1127",
         "1296",
         "1467"
        ],
        [
         "SAFE",
         "635",
         "805",
         "924",
         "1048",
         "1125"
        ],
        [
         "SELFIES",
         "0",
         "0",
         "0",
         "0",
         "0"
        ],
        [
         "SMILES",
         "656",
         "918",
         "1094",
         "1236",
         "1331"
        ]
       ],
       "shape": {
        "columns": 5,
        "rows": 4
       }
      },
      "text/html": [
       "<div>\n",
       "<style scoped>\n",
       "    .dataframe tbody tr th:only-of-type {\n",
       "        vertical-align: middle;\n",
       "    }\n",
       "\n",
       "    .dataframe tbody tr th {\n",
       "        vertical-align: top;\n",
       "    }\n",
       "\n",
       "    .dataframe thead th {\n",
       "        text-align: right;\n",
       "    }\n",
       "</style>\n",
       "<table border=\"1\" class=\"dataframe\">\n",
       "  <thead>\n",
       "    <tr style=\"text-align: right;\">\n",
       "      <th></th>\n",
       "      <th>top1</th>\n",
       "      <th>top2</th>\n",
       "      <th>top3</th>\n",
       "      <th>top4</th>\n",
       "      <th>top5</th>\n",
       "    </tr>\n",
       "  </thead>\n",
       "  <tbody>\n",
       "    <tr>\n",
       "      <th>fragSMILES</th>\n",
       "      <td>620</td>\n",
       "      <td>918</td>\n",
       "      <td>1127</td>\n",
       "      <td>1296</td>\n",
       "      <td>1467</td>\n",
       "    </tr>\n",
       "    <tr>\n",
       "      <th>SAFE</th>\n",
       "      <td>635</td>\n",
       "      <td>805</td>\n",
       "      <td>924</td>\n",
       "      <td>1048</td>\n",
       "      <td>1125</td>\n",
       "    </tr>\n",
       "    <tr>\n",
       "      <th>SELFIES</th>\n",
       "      <td>0</td>\n",
       "      <td>0</td>\n",
       "      <td>0</td>\n",
       "      <td>0</td>\n",
       "      <td>0</td>\n",
       "    </tr>\n",
       "    <tr>\n",
       "      <th>SMILES</th>\n",
       "      <td>656</td>\n",
       "      <td>918</td>\n",
       "      <td>1094</td>\n",
       "      <td>1236</td>\n",
       "      <td>1331</td>\n",
       "    </tr>\n",
       "  </tbody>\n",
       "</table>\n",
       "</div>"
      ],
      "text/plain": [
       "            top1  top2  top3  top4  top5\n",
       "fragSMILES   620   918  1127  1296  1467\n",
       "SAFE         635   805   924  1048  1125\n",
       "SELFIES        0     0     0     0     0\n",
       "SMILES       656   918  1094  1236  1331"
      ]
     },
     "execution_count": 31,
     "metadata": {},
     "output_type": "execute_result"
    }
   ],
   "source": [
    "backward_chiral_accuracy"
   ]
  },
  {
   "cell_type": "raw",
   "metadata": {
    "vscode": {
     "languageId": "raw"
    }
   },
   "source": [
    "chiral_set_size = ForwardEvaluator.true_smiles.chiral.sum()\n",
    "metrics_table = {\n",
    "    'forward_chiral_valid':forward_chiral_valid.astype(str) + ' (' + (forward_chiral_valid/chiral_set_size).map(as_percent_str)+')',\n",
    "    'forward_chiral_accuracy':forward_chiral_accuracy.astype(str) + ' (' + (forward_chiral_accuracy/chiral_set_size).map(as_percent_str)+')',\n",
    "    'backward_chiral_valid':backward_chiral_valid.astype(str) + ' (' + (backward_chiral_valid/chiral_set_size).map(as_percent_str)+')',\n",
    "    'backward_chiral_accuracy':backward_chiral_accuracy.astype(str) + ' (' + (backward_chiral_accuracy/chiral_set_size).map(as_percent_str)+')',\n",
    "}\n",
    "\n",
    "template_table = env.get_template('floats/tables/templates/metrics_chiral_topk_template.tex')\n",
    "\n",
    "render_kwargs = {\n",
    "    name + f'_{index}_{column}':table.at[index,column]\n",
    "    for name,table in metrics_table.items()\n",
    "    for column in table.columns\n",
    "    for index in table.index\n",
    "}\n",
    "\n",
    "rendered_table = template_table.render(**render_kwargs)\n",
    "with open('floats/tables/metrics_chiral_topk.tex', 'w') as f:\n",
    "    f.write(rendered_table)"
   ]
  },
  {
   "cell_type": "markdown",
   "metadata": {},
   "source": [
    "## Strict Accuracy chiral"
   ]
  },
  {
   "cell_type": "code",
   "execution_count": 33,
   "metadata": {},
   "outputs": [],
   "source": [
    "forward_chiral_valid_strict=pd.DataFrame.from_dict(\n",
    "    {\n",
    "        f'top{k+1}' : {\n",
    "            notation_table.loc[notation,'name']: evaluator.chiral_validity(k, strict_chiral=True)\n",
    "            for notation, evaluator in evaluators_forward.items()\n",
    "        }\n",
    "        for k in range(5)\n",
    "    }\n",
    ")\n",
    "\n",
    "forward_chiral_accuracy_strict=pd.DataFrame.from_dict(\n",
    "    {\n",
    "        f'top{k+1}' : {\n",
    "            notation_table.loc[notation,'name']: evaluator.chiral_accuracy(k, strict_chiral=True)\n",
    "            for notation, evaluator in evaluators_forward.items()\n",
    "        }\n",
    "        for k in range(5)\n",
    "    }\n",
    ")"
   ]
  },
  {
   "cell_type": "code",
   "execution_count": 34,
   "metadata": {},
   "outputs": [],
   "source": [
    "backward_chiral_valid_strict=pd.DataFrame.from_dict(\n",
    "    {\n",
    "        f'top{k+1}' : {\n",
    "            notation_table.loc[notation,'name']: evaluator.chiral_validity(k, strict_chiral=True)\n",
    "            for notation, evaluator in evaluators_backward.items()\n",
    "        }\n",
    "        for k in range(5)\n",
    "    }\n",
    ")\n",
    "\n",
    "backward_chiral_accuracy_strict=pd.DataFrame.from_dict(\n",
    "    {\n",
    "        f'top{k+1}' : {\n",
    "            notation_table.loc[notation,'name']: evaluator.chiral_accuracy(k, strict_chiral=True)\n",
    "            for notation, evaluator in evaluators_backward.items()\n",
    "        }\n",
    "        for k in range(5)\n",
    "    }\n",
    ")"
   ]
  },
  {
   "cell_type": "code",
   "execution_count": 35,
   "metadata": {},
   "outputs": [
    {
     "data": {
      "application/vnd.microsoft.datawrangler.viewer.v0+json": {
       "columns": [
        {
         "name": "index",
         "rawType": "object",
         "type": "string"
        },
        {
         "name": "top1",
         "rawType": "int64",
         "type": "integer"
        },
        {
         "name": "top2",
         "rawType": "int64",
         "type": "integer"
        },
        {
         "name": "top3",
         "rawType": "int64",
         "type": "integer"
        },
        {
         "name": "top4",
         "rawType": "int64",
         "type": "integer"
        },
        {
         "name": "top5",
         "rawType": "int64",
         "type": "integer"
        }
       ],
       "conversionMethod": "pd.DataFrame",
       "ref": "b07b89bb-5c77-4a2b-b436-05ce887c60a7",
       "rows": [
        [
         "fragSMILES",
         "3801",
         "4345",
         "4652",
         "4825",
         "4957"
        ],
        [
         "SAFE",
         "1609",
         "2095",
         "2343",
         "2495",
         "2575"
        ],
        [
         "SELFIES",
         "1170",
         "1548",
         "1732",
         "1859",
         "1956"
        ],
        [
         "SMILES",
         "3331",
         "4144",
         "4476",
         "4678",
         "4809"
        ]
       ],
       "shape": {
        "columns": 5,
        "rows": 4
       }
      },
      "text/html": [
       "<div>\n",
       "<style scoped>\n",
       "    .dataframe tbody tr th:only-of-type {\n",
       "        vertical-align: middle;\n",
       "    }\n",
       "\n",
       "    .dataframe tbody tr th {\n",
       "        vertical-align: top;\n",
       "    }\n",
       "\n",
       "    .dataframe thead th {\n",
       "        text-align: right;\n",
       "    }\n",
       "</style>\n",
       "<table border=\"1\" class=\"dataframe\">\n",
       "  <thead>\n",
       "    <tr style=\"text-align: right;\">\n",
       "      <th></th>\n",
       "      <th>top1</th>\n",
       "      <th>top2</th>\n",
       "      <th>top3</th>\n",
       "      <th>top4</th>\n",
       "      <th>top5</th>\n",
       "    </tr>\n",
       "  </thead>\n",
       "  <tbody>\n",
       "    <tr>\n",
       "      <th>fragSMILES</th>\n",
       "      <td>3801</td>\n",
       "      <td>4345</td>\n",
       "      <td>4652</td>\n",
       "      <td>4825</td>\n",
       "      <td>4957</td>\n",
       "    </tr>\n",
       "    <tr>\n",
       "      <th>SAFE</th>\n",
       "      <td>1609</td>\n",
       "      <td>2095</td>\n",
       "      <td>2343</td>\n",
       "      <td>2495</td>\n",
       "      <td>2575</td>\n",
       "    </tr>\n",
       "    <tr>\n",
       "      <th>SELFIES</th>\n",
       "      <td>1170</td>\n",
       "      <td>1548</td>\n",
       "      <td>1732</td>\n",
       "      <td>1859</td>\n",
       "      <td>1956</td>\n",
       "    </tr>\n",
       "    <tr>\n",
       "      <th>SMILES</th>\n",
       "      <td>3331</td>\n",
       "      <td>4144</td>\n",
       "      <td>4476</td>\n",
       "      <td>4678</td>\n",
       "      <td>4809</td>\n",
       "    </tr>\n",
       "  </tbody>\n",
       "</table>\n",
       "</div>"
      ],
      "text/plain": [
       "            top1  top2  top3  top4  top5\n",
       "fragSMILES  3801  4345  4652  4825  4957\n",
       "SAFE        1609  2095  2343  2495  2575\n",
       "SELFIES     1170  1548  1732  1859  1956\n",
       "SMILES      3331  4144  4476  4678  4809"
      ]
     },
     "execution_count": 35,
     "metadata": {},
     "output_type": "execute_result"
    }
   ],
   "source": [
    "forward_chiral_accuracy_strict"
   ]
  },
  {
   "cell_type": "code",
   "execution_count": 36,
   "metadata": {},
   "outputs": [
    {
     "data": {
      "application/vnd.microsoft.datawrangler.viewer.v0+json": {
       "columns": [
        {
         "name": "index",
         "rawType": "object",
         "type": "string"
        },
        {
         "name": "top1",
         "rawType": "int64",
         "type": "integer"
        },
        {
         "name": "top2",
         "rawType": "int64",
         "type": "integer"
        },
        {
         "name": "top3",
         "rawType": "int64",
         "type": "integer"
        },
        {
         "name": "top4",
         "rawType": "int64",
         "type": "integer"
        },
        {
         "name": "top5",
         "rawType": "int64",
         "type": "integer"
        }
       ],
       "conversionMethod": "pd.DataFrame",
       "ref": "b029e22f-9182-4c43-a540-db33c3fb77c7",
       "rows": [
        [
         "fragSMILES",
         "620",
         "919",
         "1128",
         "1297",
         "1469"
        ],
        [
         "SAFE",
         "635",
         "805",
         "924",
         "1048",
         "1125"
        ],
        [
         "SELFIES",
         "8",
         "19",
         "27",
         "32",
         "43"
        ],
        [
         "SMILES",
         "669",
         "933",
         "1108",
         "1249",
         "1343"
        ]
       ],
       "shape": {
        "columns": 5,
        "rows": 4
       }
      },
      "text/html": [
       "<div>\n",
       "<style scoped>\n",
       "    .dataframe tbody tr th:only-of-type {\n",
       "        vertical-align: middle;\n",
       "    }\n",
       "\n",
       "    .dataframe tbody tr th {\n",
       "        vertical-align: top;\n",
       "    }\n",
       "\n",
       "    .dataframe thead th {\n",
       "        text-align: right;\n",
       "    }\n",
       "</style>\n",
       "<table border=\"1\" class=\"dataframe\">\n",
       "  <thead>\n",
       "    <tr style=\"text-align: right;\">\n",
       "      <th></th>\n",
       "      <th>top1</th>\n",
       "      <th>top2</th>\n",
       "      <th>top3</th>\n",
       "      <th>top4</th>\n",
       "      <th>top5</th>\n",
       "    </tr>\n",
       "  </thead>\n",
       "  <tbody>\n",
       "    <tr>\n",
       "      <th>fragSMILES</th>\n",
       "      <td>620</td>\n",
       "      <td>919</td>\n",
       "      <td>1128</td>\n",
       "      <td>1297</td>\n",
       "      <td>1469</td>\n",
       "    </tr>\n",
       "    <tr>\n",
       "      <th>SAFE</th>\n",
       "      <td>635</td>\n",
       "      <td>805</td>\n",
       "      <td>924</td>\n",
       "      <td>1048</td>\n",
       "      <td>1125</td>\n",
       "    </tr>\n",
       "    <tr>\n",
       "      <th>SELFIES</th>\n",
       "      <td>8</td>\n",
       "      <td>19</td>\n",
       "      <td>27</td>\n",
       "      <td>32</td>\n",
       "      <td>43</td>\n",
       "    </tr>\n",
       "    <tr>\n",
       "      <th>SMILES</th>\n",
       "      <td>669</td>\n",
       "      <td>933</td>\n",
       "      <td>1108</td>\n",
       "      <td>1249</td>\n",
       "      <td>1343</td>\n",
       "    </tr>\n",
       "  </tbody>\n",
       "</table>\n",
       "</div>"
      ],
      "text/plain": [
       "            top1  top2  top3  top4  top5\n",
       "fragSMILES   620   919  1128  1297  1469\n",
       "SAFE         635   805   924  1048  1125\n",
       "SELFIES        8    19    27    32    43\n",
       "SMILES       669   933  1108  1249  1343"
      ]
     },
     "execution_count": 36,
     "metadata": {},
     "output_type": "execute_result"
    }
   ],
   "source": [
    "backward_chiral_accuracy_strict"
   ]
  },
  {
   "cell_type": "code",
   "execution_count": 37,
   "metadata": {},
   "outputs": [
    {
     "data": {
      "text/plain": [
       "8588"
      ]
     },
     "execution_count": 37,
     "metadata": {},
     "output_type": "execute_result"
    }
   ],
   "source": [
    "ForwardEvaluator.true_smiles.chiral.sum()"
   ]
  },
  {
   "cell_type": "raw",
   "metadata": {
    "vscode": {
     "languageId": "raw"
    }
   },
   "source": [
    "chiral_set_size = ForwardEvaluator.true_smiles.chiral.sum()\n",
    "metrics_table = {\n",
    "    'forward_chiral_valid':forward_chiral_valid_strict.astype(str) + ' (' + (forward_chiral_valid_strict/chiral_set_size).map(as_percent_str)+')',\n",
    "    'forward_chiral_accuracy':forward_chiral_accuracy_strict.astype(str) + ' (' + (forward_chiral_accuracy_strict/chiral_set_size).map(as_percent_str)+')',\n",
    "    'backward_chiral_valid':backward_chiral_valid_strict.astype(str) + ' (' + (backward_chiral_valid_strict/chiral_set_size).map(as_percent_str)+')',\n",
    "    'backward_chiral_accuracy':backward_chiral_accuracy_strict.astype(str) + ' (' + (backward_chiral_accuracy_strict/chiral_set_size).map(as_percent_str)+')',\n",
    "}\n",
    "\n",
    "template_table = env.get_template('floats/tables/templates/metrics_chiral_topk_template.tex')\n",
    "\n",
    "render_kwargs = {\n",
    "    name + f'_{index}_{column}':table.at[index,column]\n",
    "    for name,table in metrics_table.items()\n",
    "    for column in table.columns\n",
    "    for index in table.index\n",
    "}\n",
    "\n",
    "rendered_table = template_table.render(**render_kwargs)\n",
    "with open('floats/tables/metrics_chiral_topk_strict.tex', 'w') as f:\n",
    "    f.write(rendered_table)"
   ]
  },
  {
   "cell_type": "code",
   "execution_count": null,
   "metadata": {},
   "outputs": [],
   "source": []
  },
  {
   "cell_type": "markdown",
   "metadata": {},
   "source": [
    "## Overlap Metrics"
   ]
  },
  {
   "cell_type": "code",
   "execution_count": 39,
   "metadata": {},
   "outputs": [
    {
     "data": {
      "image/png": "[encoded data removed]",
      "text/plain": [
       "<Figure size 1600x700 with 11 Axes>"
      ]
     },
     "metadata": {},
     "output_type": "display_data"
    }
   ],
   "source": [
    "fig, axes = plt.subplots(nrows=2, ncols=5, figsize=(16,7), gridspec_kw={'hspace':.0,}, sharey=True)\n",
    "\n",
    "ticks = np.arange(len(notation_table))\n",
    "labels = notation_table.name.tolist()\n",
    "for row, evaluators in zip(axes, [evaluators_forward, evaluators_backward]):\n",
    "    for ax, k in zip(row, range(5)):\n",
    "\n",
    "        adj = overlap_accurates(evaluators, k, chirality=True).values\n",
    "        \n",
    "        im = ax.matshow(adj.astype(float), cmap = 'gnuplot', vmin=0.0, vmax=1.0)\n",
    "\n",
    "        ax.set_xticks(ticks, labels, rotation=30, ha=\"right\", rotation_mode=\"anchor\")\n",
    "        ax.xaxis.set_ticks_position(\"bottom\")\n",
    "        ax.set_yticks(ticks, labels)\n",
    "\n",
    "        ax.set_title(f'Top-{k+1}')\n",
    "\n",
    "        # Turn spines off and create white grid.\n",
    "        ax.spines[:].set_visible(False)\n",
    "\n",
    "        ax.set_xticks(ticks[:-1]+.5, minor=True)\n",
    "        ax.set_yticks(ticks[:-1]+.5, minor=True)\n",
    "\n",
    "        ax.grid(which=\"minor\", color=\"w\", linestyle='-', linewidth=4)\n",
    "        ax.tick_params(which=\"minor\", bottom=False, left=False)\n",
    "\n",
    "        annotate_heatmap(im, adj, textcolors=(\"white\", \"black\"), threshold=.7)\n",
    "\n",
    "axes[0,0].set_ylabel('Synthesis')\n",
    "axes[1,0].set_ylabel('Retrosynth')\n",
    "\n",
    "cbar = fig.colorbar(im, ax=axes.flatten(), orientation='vertical', pad = .02, location='right')\n",
    "cbar.set_label('(Intersection / Union) of correct predictions', rotation=-90, va='bottom')\n"
   ]
  },
  {
   "cell_type": "raw",
   "metadata": {
    "vscode": {
     "languageId": "raw"
    }
   },
   "source": [
    "fig.savefig('floats/figures/overlap_chiral.pdf', bbox_inches='tight')"
   ]
  }
 ],
 "metadata": {
  "kernelspec": {
   "display_name": ".venv",
   "language": "python",
   "name": "python3"
  },
  "language_info": {
   "codemirror_mode": {
    "name": "ipython",
    "version": 3
   },
   "file_extension": ".py",
   "mimetype": "text/x-python",
   "name": "python",
   "nbconvert_exporter": "python",
   "pygments_lexer": "ipython3",
   "version": "3.12.6"
  }
 },
 "nbformat": 4,
 "nbformat_minor": 2
}
